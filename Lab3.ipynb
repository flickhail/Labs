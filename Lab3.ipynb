{
 "cells": [
  {
   "cell_type": "markdown",
   "metadata": {},
   "source": [
    "Подключаем библиотеки и cuda"
   ]
  },
  {
   "cell_type": "code",
   "execution_count": 1,
   "metadata": {},
   "outputs": [],
   "source": [
    "import os\n",
    "import glob\n",
    "import random\n",
    "\n",
    "import torch\n",
    "import numpy as np\n",
    "import cv2\n",
    "\n",
    "from torch.utils.data import Dataset\n",
    "from torch.utils.data import DataLoader\n",
    "from torch import nn\n",
    "from torchvision import transforms\n",
    "\n",
    "import torch.nn.functional as F"
   ]
  },
  {
   "cell_type": "code",
   "execution_count": 2,
   "metadata": {},
   "outputs": [
    {
     "data": {
      "text/plain": [
       "'cuda'"
      ]
     },
     "execution_count": 2,
     "metadata": {},
     "output_type": "execute_result"
    }
   ],
   "source": [
    "if torch.cuda.is_available():\n",
    "    device = \"cuda\"\n",
    "else:\n",
    "    device = \"cpu\"\n",
    "\n",
    "device"
   ]
  },
  {
   "cell_type": "markdown",
   "metadata": {},
   "source": [
    "Класс для датасета"
   ]
  },
  {
   "cell_type": "code",
   "execution_count": 3,
   "metadata": {},
   "outputs": [],
   "source": [
    "class ColorDataset(Dataset):\n",
    "    \n",
    "    def __init__(self, rootdir, transform) -> None:\n",
    "        super().__init__()\n",
    "        self.class_names = os.listdir(rootdir)\n",
    "        self.class_idx = [i for i in range(len(self.class_names))]\n",
    "        self.transform = transform\n",
    "        self.images_pathes = []\n",
    "        self.images_clas_names = []\n",
    "\n",
    "        for cls_name in self.class_names:\n",
    "            sub_root = os.path.join(rootdir, cls_name)\n",
    "            self.images_pathes.extend(glob.glob(os.path.join(sub_root, '*.jpg')))\n",
    "            self.images_clas_names.append(cls_name)\n",
    "\n",
    "        random.shuffle(self.images_pathes)\n",
    "            \n",
    "    def __len__(self):\n",
    "        return len(self.images_pathes)\n",
    "    \n",
    "    def __getitem__(self, index) -> tuple:\n",
    "\n",
    "        img_path = self.images_pathes[index]\n",
    "        image = cv2.imread(img_path)\n",
    "        img_folder_pth = os.path.split(img_path)[0]\n",
    "        cls_name = os.path.split(img_folder_pth)[-1]\n",
    "        label = self.class_names.index(cls_name)\n",
    "        \n",
    "        if self.transform:\n",
    "            image = self.transform(image)\n",
    "\n",
    "        return (image, label)"
   ]
  },
  {
   "cell_type": "code",
   "execution_count": 4,
   "metadata": {},
   "outputs": [],
   "source": [
    "transform = transforms.Compose(\n",
    "    [\n",
    "        transforms.ToTensor(), \n",
    "        transforms.Normalize(mean = 0.5, std = 0.5)\n",
    "    ]\n",
    ")"
   ]
  },
  {
   "cell_type": "markdown",
   "metadata": {},
   "source": [
    "Данные test хранятся в папке без деления на классы, что не даёт удобно проверить результаты. Для обучения данные разделим train на 2 набора train(80%) и test(20%)."
   ]
  },
  {
   "cell_type": "code",
   "execution_count": 5,
   "metadata": {},
   "outputs": [],
   "source": [
    "import os\n",
    "\n",
    "current_directory = os.getcwd()\n",
    "DATA_PATH = os.path.join(current_directory, 'data')"
   ]
  },
  {
   "cell_type": "code",
   "execution_count": 6,
   "metadata": {},
   "outputs": [],
   "source": [
    "classes = {n: cls for n,cls in enumerate(os.listdir(DATA_PATH))}\n",
    "classes_invert = {value:key for key, value in classes.items() }\n",
    "\n",
    "batch_size = 64\n",
    "dataset = ColorDataset(DATA_PATH, transform)\n",
    "\n",
    "train_size = int(0.8 * len(dataset))\n",
    "test_size = len(dataset) - train_size\n",
    "train_dataset, test_dataset = torch.utils.data.random_split(dataset, [train_size, test_size])\n",
    "\n",
    "train_loader = DataLoader(train_dataset, batch_size=batch_size)\n",
    "test_loader = DataLoader(test_dataset, batch_size=batch_size)"
   ]
  },
  {
   "cell_type": "code",
   "execution_count": 7,
   "metadata": {},
   "outputs": [
    {
     "name": "stdout",
     "output_type": "stream",
     "text": [
      "torch.Size([64, 3, 224, 224])\n",
      "tensor([ 0,  1,  8,  7,  7,  2, 10,  9, 10,  1,  2,  2, 10,  3,  8,  6, 10,  2,\n",
      "         1,  1,  5,  4,  4,  1,  0,  7,  9,  9,  3,  5,  3,  3,  7, 10,  2,  3,\n",
      "        11,  0,  4,  4, 10,  8, 10,  3,  9,  0, 11, 10,  8,  4, 10,  5, 10,  9,\n",
      "         6,  3,  3,  3,  0, 11,  9,  0,  8,  2])\n"
     ]
    }
   ],
   "source": [
    "for x,y in train_loader:\n",
    "    print(x.shape)\n",
    "    print(y)\n",
    "    break"
   ]
  },
  {
   "cell_type": "code",
   "execution_count": 8,
   "metadata": {},
   "outputs": [
    {
     "data": {
      "text/plain": [
       "12"
      ]
     },
     "execution_count": 8,
     "metadata": {},
     "output_type": "execute_result"
    }
   ],
   "source": [
    "# выход с последнего слоя\n",
    "len(classes.values())       "
   ]
  },
  {
   "cell_type": "markdown",
   "metadata": {},
   "source": [
    "Класс для модели"
   ]
  },
  {
   "cell_type": "code",
   "execution_count": 9,
   "metadata": {},
   "outputs": [],
   "source": [
    "class ColorClassificator(nn.Module):\n",
    "    def __init__(self):\n",
    "        super(ColorClassificator, self).__init__()\n",
    "        self.conv_1 = nn.Conv2d(3, 8, (2,2), 1)\n",
    "        self.conv_2 = nn.Conv2d(8, 16, (2,2), 1)\n",
    "        self.conv_3 = nn.Conv2d(16, 32, (2,2), 1)\n",
    "        self.conv_4 = nn.Conv2d(32, 64, (2,2), 1)\n",
    "        self.conv_5 = nn.Conv2d(64, 128, (2,2), 1)\n",
    "        self.conv_6 = nn.Conv2d(128, 256, (2,2), 1)\n",
    "        \n",
    "        self.pool = nn.MaxPool2d((2,2), 2)\n",
    "        \n",
    "        self.linear_1 = nn.Linear(173056, 512) # 26*26*256\n",
    "        self.linear_2 = nn.Linear(512, 12)\n",
    "\n",
    "    def forward(self, x):\n",
    "        x = self.conv_1(x)\n",
    "        x = F.relu(x)\n",
    "        x = self.conv_2(x)\n",
    "        x = F.relu(x)\n",
    "        x = self.pool(x)\n",
    "        \n",
    "        x = self.conv_3(x)\n",
    "        x = F.relu(x)\n",
    "        x = self.conv_4(x)\n",
    "        x = F.relu(x)\n",
    "        x = self.pool(x)\n",
    "        \n",
    "        x = self.conv_5(x)\n",
    "        x = F.relu(x)\n",
    "        x = self.conv_6(x)\n",
    "        x = F.relu(x)\n",
    "        x = self.pool(x)\n",
    "\n",
    "        x = torch.flatten(x, start_dim=1)\n",
    "        \n",
    "        x = self.linear_1(x)\n",
    "        x = F.relu(x)\n",
    "        x = self.linear_2(x)\n",
    "        \n",
    "        return x"
   ]
  },
  {
   "cell_type": "code",
   "execution_count": 10,
   "metadata": {},
   "outputs": [],
   "source": [
    "model = ColorClassificator()\n",
    "model.to(device)\n",
    "loss_function = torch.nn.CrossEntropyLoss()\n",
    "\n",
    "optimizator = torch.optim.Adam(model.parameters(), lr=0.001,)"
   ]
  },
  {
   "cell_type": "code",
   "execution_count": 11,
   "metadata": {},
   "outputs": [],
   "source": [
    "def val(model, test_loader):\n",
    "    model.eval()\n",
    "    tp = 0\n",
    "    total = 0\n",
    "\n",
    "    for x,y in test_loader:\n",
    "        y = y.to(device)\n",
    "        pred = torch.argmax(model(x.to(device)), dim=1)\n",
    "        tp += int((pred == y).sum().to('cpu'))\n",
    "        total +=len(pred)\n",
    "    \n",
    "    return tp/total\n",
    "\n",
    "def train(dataloader, model, loss_fn, op_fn, epoch):\n",
    "    for ep in range(epoch):\n",
    "        for step, (x, y) in enumerate(dataloader):\n",
    "\n",
    "            y_pred = model(x.to(device))\n",
    "            loss = loss_fn(y_pred.to(device), y.to(device))\n",
    "\n",
    "            op_fn.zero_grad()\n",
    "            loss.backward()\n",
    "            op_fn.step()\n",
    "\n",
    "            if step%100 == 0:\n",
    "                loss, current = loss.item(), (ep+1)*(step+1)*batch_size\n",
    "                print(f\"loss = {loss}, samples = {current}\")\n",
    "\n",
    "        acc = val(model, test_loader)\n",
    "        print('accuracy', acc)\n",
    "\n",
    "        torch.save(model, f'CNN_color_classifier_{epoch}_epo_{acc}_acc.pt')"
   ]
  },
  {
   "cell_type": "code",
   "execution_count": 12,
   "metadata": {},
   "outputs": [
    {
     "name": "stdout",
     "output_type": "stream",
     "text": [
      "loss = 2.4807803630828857, samples = 64\n",
      "accuracy 0.38301282051282054\n",
      "loss = 1.9520090818405151, samples = 128\n",
      "accuracy 0.5488782051282052\n",
      "loss = 1.5119187831878662, samples = 192\n",
      "accuracy 0.6362179487179487\n",
      "loss = 1.1654119491577148, samples = 256\n",
      "accuracy 0.6314102564102564\n",
      "loss = 1.1886417865753174, samples = 320\n",
      "accuracy 0.6209935897435898\n",
      "loss = 1.0774588584899902, samples = 384\n",
      "accuracy 0.6394230769230769\n"
     ]
    }
   ],
   "source": [
    "train(train_loader, model, loss_function, optimizator, 6)"
   ]
  },
  {
   "cell_type": "code",
   "execution_count": 13,
   "metadata": {},
   "outputs": [
    {
     "data": {
      "text/plain": [
       "torch.Size([64, 12])"
      ]
     },
     "execution_count": 13,
     "metadata": {},
     "output_type": "execute_result"
    }
   ],
   "source": [
    "model(x.cuda()).size()"
   ]
  },
  {
   "cell_type": "markdown",
   "metadata": {},
   "source": [
    "Рассчёт метрик"
   ]
  },
  {
   "cell_type": "code",
   "execution_count": 42,
   "metadata": {},
   "outputs": [
    {
     "data": {
      "text/plain": [
       "ColorClassificator(\n",
       "  (conv_1): Conv2d(3, 8, kernel_size=(2, 2), stride=(1, 1))\n",
       "  (conv_2): Conv2d(8, 16, kernel_size=(2, 2), stride=(1, 1))\n",
       "  (conv_3): Conv2d(16, 32, kernel_size=(2, 2), stride=(1, 1))\n",
       "  (conv_4): Conv2d(32, 64, kernel_size=(2, 2), stride=(1, 1))\n",
       "  (conv_5): Conv2d(64, 128, kernel_size=(2, 2), stride=(1, 1))\n",
       "  (conv_6): Conv2d(128, 256, kernel_size=(2, 2), stride=(1, 1))\n",
       "  (pool): MaxPool2d(kernel_size=(2, 2), stride=2, padding=0, dilation=1, ceil_mode=False)\n",
       "  (linear_1): Linear(in_features=173056, out_features=512, bias=True)\n",
       "  (linear_2): Linear(in_features=512, out_features=12, bias=True)\n",
       ")"
      ]
     },
     "execution_count": 42,
     "metadata": {},
     "output_type": "execute_result"
    }
   ],
   "source": [
    "model.eval()"
   ]
  },
  {
   "cell_type": "code",
   "execution_count": 43,
   "metadata": {},
   "outputs": [],
   "source": [
    "def calculate_metrics(model, data_loader, device):\n",
    "    \n",
    "    '''\n",
    "    Функция для рассчёта метрик \n",
    "    Accuracy, Recall, Precision\n",
    "    \n",
    "    Вход: model, data_loader, device\n",
    "    Выход: значения метрик accuracy, precision, recall\n",
    "    '''\n",
    "    \n",
    "    correct_predictions = 0\n",
    "    total_predictions = 0\n",
    "    num_classes = len(classes.values())\n",
    "\n",
    "    true_positives = [0] * num_classes\n",
    "    false_positives = [0] * num_classes\n",
    "    false_negatives = [0] * num_classes\n",
    "\n",
    "    for data in data_loader:\n",
    "        inputs, labels = data\n",
    "        inputs, labels = inputs.to(device), labels.to(device)\n",
    "\n",
    "        _, predicts = torch.max(model(inputs), 1)  # Получаем классы с максимальной вероятностью\n",
    "                    \n",
    "        total_predictions += labels.size(0)\n",
    "        correct_predictions += (predicts == labels).sum().item()\n",
    "        \n",
    "        for i in range(len(labels)):\n",
    "            if predicts[i] == labels[i]:\n",
    "                true_positives[labels[i].item()] += 1\n",
    "            else:\n",
    "                false_positives[predicts[i].item()] += 1\n",
    "                false_negatives[labels[i].item()] += 1\n",
    "                \n",
    "        recall, precision = 0, 0\n",
    "                \n",
    "        for i in range(num_classes):\n",
    "            if (true_positives[i] + false_positives[i]) > 0:\n",
    "                precision += true_positives[i] / (true_positives[i] + false_positives[i])\n",
    "    \n",
    "            if (true_positives[i] + false_negatives[i]) > 0:\n",
    "                recall += true_positives[i] / (true_positives[i] + false_negatives[i]) \n",
    "\n",
    "        accuracy = correct_predictions / total_predictions\n",
    "        precision /= num_classes\n",
    "        recall /= num_classes\n",
    "    \n",
    "    return accuracy, precision, recall\n"
   ]
  },
  {
   "cell_type": "code",
   "execution_count": 44,
   "metadata": {},
   "outputs": [
    {
     "name": "stdout",
     "output_type": "stream",
     "text": [
      "Accuracy: 63.94%\n",
      "Precision: 64.27%\n",
      "Recall: 58.48%\n"
     ]
    }
   ],
   "source": [
    "model.to(device)\n",
    "accuracy, precision, recall = calculate_metrics(model, test_loader, device)\n",
    "\n",
    "print(f'Accuracy: {accuracy * 100:.2f}%')\n",
    "print(f'Precision: {precision * 100:.2f}%')\n",
    "print(f'Recall: {recall * 100:.2f}%')"
   ]
  },
  {
   "cell_type": "code",
   "execution_count": 48,
   "metadata": {},
   "outputs": [
    {
     "name": "stdout",
     "output_type": "stream",
     "text": [
      "20\n"
     ]
    }
   ],
   "source": [
    "predicts = []\n",
    "labels = []\n",
    "\n",
    "for x,y in test_loader:\n",
    "    y = y.to('cpu').numpy()\n",
    "    pred = torch.argmax(model(x.to(\"cpu\")), dim=1).to('cpu').numpy()\n",
    "    predicts.append(pred)\n",
    "    labels.append(y)\n",
    "\n",
    "print(len(predicts))\n"
   ]
  },
  {
   "cell_type": "code",
   "execution_count": 49,
   "metadata": {},
   "outputs": [],
   "source": [
    "predicts = np.concatenate(predicts)\n",
    "labels = np.concatenate(labels)"
   ]
  },
  {
   "cell_type": "code",
   "execution_count": 50,
   "metadata": {},
   "outputs": [],
   "source": [
    "from sklearn.metrics import confusion_matrix"
   ]
  },
  {
   "cell_type": "code",
   "execution_count": 51,
   "metadata": {},
   "outputs": [],
   "source": [
    "model.to(\"cpu\")\n",
    "cm = confusion_matrix(labels, predicts, labels=tuple(classes.keys()))"
   ]
  },
  {
   "cell_type": "code",
   "execution_count": 52,
   "metadata": {},
   "outputs": [
    {
     "data": {
      "text/plain": [
       "(12, 12)"
      ]
     },
     "execution_count": 52,
     "metadata": {},
     "output_type": "execute_result"
    }
   ],
   "source": [
    "cm.shape"
   ]
  },
  {
   "cell_type": "code",
   "execution_count": 53,
   "metadata": {},
   "outputs": [
    {
     "data": {
      "text/plain": [
       "<Figure size 20000x20000 with 0 Axes>"
      ]
     },
     "metadata": {},
     "output_type": "display_data"
    },
    {
     "data": {
      "image/png": "[encoded data removed]",
      "text/plain": [
       "<Figure size 640x480 with 2 Axes>"
      ]
     },
     "metadata": {},
     "output_type": "display_data"
    }
   ],
   "source": [
    "from sklearn.metrics import ConfusionMatrixDisplay\n",
    "import matplotlib.pyplot as plt\n",
    "\n",
    "plt.figure(figsize=(200,200))\n",
    "cm = confusion_matrix(labels, predicts, labels=tuple(classes.keys()))\n",
    "disp = ConfusionMatrixDisplay(confusion_matrix=cm, display_labels=tuple(classes.values()))\n",
    "disp.plot()\n",
    "plt.title(\"My confusion matrix\")\n",
    "plt.xticks(rotation=90)\n",
    "plt.show()"
   ]
  },
  {
   "cell_type": "code",
   "execution_count": null,
   "metadata": {},
   "outputs": [],
   "source": []
  }
 ],
 "metadata": {
  "kernelspec": {
   "display_name": "Python 3 (ipykernel)",
   "language": "python",
   "name": "python3"
  },
  "language_info": {
   "codemirror_mode": {
    "name": "ipython",
    "version": 3
   },
   "file_extension": ".py",
   "mimetype": "text/x-python",
   "name": "python",
   "nbconvert_exporter": "python",
   "pygments_lexer": "ipython3",
   "version": "3.10.14"
  }
 },
 "nbformat": 4,
 "nbformat_minor": 2
}

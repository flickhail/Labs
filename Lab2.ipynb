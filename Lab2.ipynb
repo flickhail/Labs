{
 "cells": [
  {
   "cell_type": "markdown",
   "metadata": {},
   "source": [
    "Подключаем библиотеки и cuda"
   ]
  },
  {
   "cell_type": "code",
   "execution_count": 1,
   "metadata": {},
   "outputs": [],
   "source": [
    "import os\n",
    "import glob\n",
    "import random\n",
    "\n",
    "import torch\n",
    "import numpy as np\n",
    "import cv2\n",
    "\n",
    "from torch.utils.data import Dataset\n",
    "from torch.utils.data import DataLoader\n",
    "from torch import nn\n",
    "from torchvision import transforms\n",
    "\n",
    "import torch.nn.functional as F"
   ]
  },
  {
   "cell_type": "code",
   "execution_count": 2,
   "metadata": {},
   "outputs": [
    {
     "data": {
      "text/plain": [
       "'cuda'"
      ]
     },
     "execution_count": 2,
     "metadata": {},
     "output_type": "execute_result"
    }
   ],
   "source": [
    "if torch.cuda.is_available():\n",
    "    device = \"cuda\"\n",
    "else:\n",
    "    device = \"cpu\"\n",
    "\n",
    "device"
   ]
  },
  {
   "cell_type": "markdown",
   "metadata": {},
   "source": [
    "Класс для датасета"
   ]
  },
  {
   "cell_type": "code",
   "execution_count": 3,
   "metadata": {},
   "outputs": [],
   "source": [
    "class ColorDataset(Dataset):\n",
    "    \n",
    "    def __init__(self, rootdir, transform) -> None:\n",
    "        super().__init__()\n",
    "        self.class_names = os.listdir(rootdir)\n",
    "        self.class_idx = [i for i in range(len(self.class_names))]\n",
    "        self.transform = transform\n",
    "        self.images_pathes = []\n",
    "        self.images_clas_names = []\n",
    "\n",
    "        for cls_name in self.class_names:\n",
    "            sub_root = os.path.join(rootdir, cls_name)\n",
    "            self.images_pathes.extend(glob.glob(os.path.join(sub_root, '*.jpg')))\n",
    "            self.images_clas_names.append(cls_name)\n",
    "\n",
    "        random.shuffle(self.images_pathes)\n",
    "            \n",
    "    def __len__(self):\n",
    "        return len(self.images_pathes)\n",
    "    \n",
    "    def __getitem__(self, index) -> tuple:\n",
    "\n",
    "        img_path = self.images_pathes[index]\n",
    "        image = cv2.imread(img_path)\n",
    "        img_folder_pth = os.path.split(img_path)[0]\n",
    "        cls_name = os.path.split(img_folder_pth)[-1]\n",
    "        label = self.class_names.index(cls_name)\n",
    "        \n",
    "        if self.transform:\n",
    "            image = self.transform(image)\n",
    "\n",
    "        return (image, label)"
   ]
  },
  {
   "cell_type": "code",
   "execution_count": 4,
   "metadata": {},
   "outputs": [],
   "source": [
    "transform = transforms.Compose(\n",
    "    [\n",
    "        transforms.ToTensor(), \n",
    "        transforms.Normalize(mean = 0.5, std = 0.5)\n",
    "    ]\n",
    ")"
   ]
  },
  {
   "cell_type": "markdown",
   "metadata": {},
   "source": [
    "Данные test хранятся в папке без деления на классы, что не даёт удобно проверить результаты. Для обучения данные разделим train на 2 набора train(80%) и test(20%)."
   ]
  },
  {
   "cell_type": "code",
   "execution_count": 5,
   "metadata": {},
   "outputs": [],
   "source": [
    "import os\n",
    "\n",
    "# Получить текущую директорию\n",
    "current_directory = os.getcwd()\n",
    "\n",
    "# Создать относительный путь\n",
    "DATA_PATH = os.path.join(current_directory, 'data')\n"
   ]
  },
  {
   "cell_type": "code",
   "execution_count": 6,
   "metadata": {},
   "outputs": [],
   "source": [
    "classes = {n: cls for n,cls in enumerate(os.listdir(DATA_PATH))}\n",
    "classes_invert = {value:key for key, value in classes.items() }\n",
    "\n",
    "batch_size = 64\n",
    "dataset = ColorDataset(DATA_PATH, transform)\n",
    "\n",
    "train_size = int(0.8 * len(dataset))\n",
    "test_size = len(dataset) - train_size\n",
    "train_dataset, test_dataset = torch.utils.data.random_split(dataset, [train_size, test_size])\n",
    "\n",
    "train_loader = DataLoader(train_dataset, batch_size=batch_size)\n",
    "test_loader = DataLoader(test_dataset, batch_size=batch_size)"
   ]
  },
  {
   "cell_type": "code",
   "execution_count": 7,
   "metadata": {},
   "outputs": [
    {
     "name": "stdout",
     "output_type": "stream",
     "text": [
      "torch.Size([64, 3, 224, 224])\n",
      "tensor([ 6,  2,  8,  7, 11, 11, 10, 10,  3,  7,  9,  9, 11, 10,  8, 10,  1,  6,\n",
      "         5,  3,  2,  3,  3,  9,  3,  4,  2,  2,  3,  7,  0,  9,  2,  9,  9,  6,\n",
      "         1,  1,  3,  2,  5,  2,  8,  3,  2,  9,  1,  7,  4, 11, 11,  1,  1, 11,\n",
      "        11,  4,  1, 10,  6,  9, 10,  3,  2,  2])\n"
     ]
    }
   ],
   "source": [
    "for x,y in train_loader:\n",
    "    print(x.shape)\n",
    "    print(y)\n",
    "    break"
   ]
  },
  {
   "cell_type": "code",
   "execution_count": 8,
   "metadata": {},
   "outputs": [
    {
     "data": {
      "text/plain": [
       "12"
      ]
     },
     "execution_count": 8,
     "metadata": {},
     "output_type": "execute_result"
    }
   ],
   "source": [
    "# выход с последнего слоя\n",
    "len(classes.values())       "
   ]
  },
  {
   "cell_type": "markdown",
   "metadata": {},
   "source": [
    "Класс для модели"
   ]
  },
  {
   "cell_type": "code",
   "execution_count": 9,
   "metadata": {},
   "outputs": [],
   "source": [
    "class ColorClassificator(nn.Module):\n",
    "    def __init__(self):\n",
    "        super(ColorClassificator, self).__init__()\n",
    "        self.flatten = nn.Flatten()\n",
    "        self.linear_1 = nn.Linear(150528, 1024)  # Входная размерность для 224x224 с 3 каналами\n",
    "        self.linear_2 = nn.Linear(1024, 512)\n",
    "        self.linear_3 = nn.Linear(512, 256)\n",
    "        self.linear_4 = nn.Linear(256, 128)\n",
    "        self.linear_5 = nn.Linear(128, 12)\n",
    "\n",
    "    def forward(self, x):\n",
    "        x = self.flatten(x)\n",
    "        x = self.linear_1(x)\n",
    "        x = F.relu(x)\n",
    "        x = self.linear_2(x)\n",
    "        x = F.relu(x)\n",
    "        x = self.linear_3(x)\n",
    "        x = F.relu(x)\n",
    "        x = self.linear_4(x)\n",
    "        x = F.relu(x)\n",
    "        x = self.linear_5(x)\n",
    "        \n",
    "        return x"
   ]
  },
  {
   "cell_type": "code",
   "execution_count": 10,
   "metadata": {},
   "outputs": [],
   "source": [
    "model = ColorClassificator()\n",
    "model.to(device)\n",
    "loss_function = torch.nn.CrossEntropyLoss()\n",
    "\n",
    "optimizator = torch.optim.Adam(model.parameters(), lr=0.001,)"
   ]
  },
  {
   "cell_type": "code",
   "execution_count": 11,
   "metadata": {},
   "outputs": [],
   "source": [
    "def val(model, test_loader):\n",
    "    model.eval()\n",
    "    tp = 0\n",
    "    total = 0\n",
    "\n",
    "    for x,y in test_loader:\n",
    "        y = y.to(device)\n",
    "        pred = torch.argmax(model(x.to(device)), dim=1)\n",
    "        tp += int((pred == y).sum().to('cpu'))\n",
    "        total +=len(pred)\n",
    "    \n",
    "    return tp/total\n",
    "\n",
    "def train(dataloader, model, loss_fn, op_fn, epoch):\n",
    "    for ep in range(epoch):\n",
    "        for step, (x, y) in enumerate(dataloader):\n",
    "\n",
    "            y_pred = model(x.to(device))\n",
    "            loss = loss_fn(y_pred.to(device), y.to(device))\n",
    "\n",
    "            op_fn.zero_grad()\n",
    "            loss.backward()\n",
    "            op_fn.step()\n",
    "\n",
    "            if step%100 == 0:\n",
    "                loss, current = loss.item(), (ep+1)*(step+1)*batch_size\n",
    "                print(f\"loss = {loss}, samples = {current}\")\n",
    "\n",
    "        acc = val(model, test_loader)\n",
    "        print('accuracy', acc)\n",
    "\n",
    "        torch.save(model, f'color_classifier_{epoch}_epo_{acc}_acc.pt')"
   ]
  },
  {
   "cell_type": "code",
   "execution_count": 12,
   "metadata": {},
   "outputs": [
    {
     "name": "stdout",
     "output_type": "stream",
     "text": [
      "loss = 2.4854283332824707, samples = 64\n",
      "accuracy 0.5096153846153846\n",
      "loss = 1.6857939958572388, samples = 128\n",
      "accuracy 0.6049679487179487\n",
      "loss = 1.2442126274108887, samples = 192\n",
      "accuracy 0.5857371794871795\n",
      "loss = 1.3432822227478027, samples = 256\n",
      "accuracy 0.6065705128205128\n",
      "loss = 1.1811554431915283, samples = 320\n",
      "accuracy 0.6025641025641025\n",
      "loss = 1.1114482879638672, samples = 384\n",
      "accuracy 0.6314102564102564\n"
     ]
    }
   ],
   "source": [
    "train(train_loader, model, loss_function, optimizator, 6)"
   ]
  },
  {
   "cell_type": "code",
   "execution_count": 13,
   "metadata": {},
   "outputs": [
    {
     "data": {
      "text/plain": [
       "torch.Size([64, 12])"
      ]
     },
     "execution_count": 13,
     "metadata": {},
     "output_type": "execute_result"
    }
   ],
   "source": [
    "model(x.cuda()).size()"
   ]
  },
  {
   "cell_type": "code",
   "execution_count": 14,
   "metadata": {},
   "outputs": [
    {
     "data": {
      "text/plain": [
       "ColorClassificator(\n",
       "  (flatten): Flatten(start_dim=1, end_dim=-1)\n",
       "  (linear_1): Linear(in_features=150528, out_features=1024, bias=True)\n",
       "  (linear_2): Linear(in_features=1024, out_features=512, bias=True)\n",
       "  (linear_3): Linear(in_features=512, out_features=256, bias=True)\n",
       "  (linear_4): Linear(in_features=256, out_features=128, bias=True)\n",
       "  (linear_5): Linear(in_features=128, out_features=12, bias=True)\n",
       ")"
      ]
     },
     "execution_count": 14,
     "metadata": {},
     "output_type": "execute_result"
    }
   ],
   "source": [
    "model.eval()"
   ]
  },
  {
   "cell_type": "code",
   "execution_count": 15,
   "metadata": {},
   "outputs": [
    {
     "name": "stdout",
     "output_type": "stream",
     "text": [
      "20\n"
     ]
    }
   ],
   "source": [
    "predicts = []\n",
    "labels = []\n",
    "\n",
    "for x,y in test_loader:\n",
    "    y = y.to('cpu').numpy()\n",
    "    pred = torch.argmax(model(x.to(device)), dim=1).to('cpu').numpy()\n",
    "    predicts.append(pred)\n",
    "    labels.append(y)\n",
    "\n",
    "print(len(predicts))\n"
   ]
  },
  {
   "cell_type": "code",
   "execution_count": 16,
   "metadata": {},
   "outputs": [],
   "source": [
    "predicts = np.concatenate(predicts)\n",
    "labels = np.concatenate(labels)"
   ]
  },
  {
   "cell_type": "code",
   "execution_count": 17,
   "metadata": {},
   "outputs": [],
   "source": [
    "from sklearn.metrics import confusion_matrix"
   ]
  },
  {
   "cell_type": "code",
   "execution_count": 18,
   "metadata": {},
   "outputs": [],
   "source": [
    "cm = confusion_matrix(labels, predicts, labels=tuple(classes.keys()))"
   ]
  },
  {
   "cell_type": "code",
   "execution_count": 19,
   "metadata": {},
   "outputs": [
    {
     "data": {
      "text/plain": [
       "(12, 12)"
      ]
     },
     "execution_count": 19,
     "metadata": {},
     "output_type": "execute_result"
    }
   ],
   "source": [
    "cm.shape"
   ]
  },
  {
   "cell_type": "code",
   "execution_count": 20,
   "metadata": {},
   "outputs": [
    {
     "data": {
      "text/plain": [
       "<Figure size 20000x20000 with 0 Axes>"
      ]
     },
     "metadata": {},
     "output_type": "display_data"
    },
    {
     "data": {
      "image/png": "[encoded data removed]",
      "text/plain": [
       "<Figure size 640x480 with 2 Axes>"
      ]
     },
     "metadata": {},
     "output_type": "display_data"
    }
   ],
   "source": [
    "from sklearn.metrics import ConfusionMatrixDisplay\n",
    "import matplotlib.pyplot as plt\n",
    "\n",
    "plt.figure(figsize=(200,200))\n",
    "cm = confusion_matrix(labels, predicts)\n",
    "disp = ConfusionMatrixDisplay(confusion_matrix=cm, display_labels=tuple(classes.values()))\n",
    "disp.plot()\n",
    "plt.title(\"My confusion matrix\")\n",
    "plt.xticks(rotation=90)\n",
    "plt.show()"
   ]
  }
 ],
 "metadata": {
  "kernelspec": {
   "display_name": "Python 3 (ipykernel)",
   "language": "python",
   "name": "python3"
  },
  "language_info": {
   "codemirror_mode": {
    "name": "ipython",
    "version": 3
   },
   "file_extension": ".py",
   "mimetype": "text/x-python",
   "name": "python",
   "nbconvert_exporter": "python",
   "pygments_lexer": "ipython3",
   "version": "3.10.14"
  }
 },
 "nbformat": 4,
 "nbformat_minor": 2
}
